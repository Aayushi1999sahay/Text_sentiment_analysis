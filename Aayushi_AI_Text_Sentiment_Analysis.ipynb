{
  "nbformat": 4,
  "nbformat_minor": 0,
  "metadata": {
    "colab": {
      "name": "Text_Sentiment_Analysis.ipynb",
      "provenance": [],
      "collapsed_sections": [
        "yvqy0FenhJkb",
        "izw3Xzbwf4QX"
      ]
    },
    "kernelspec": {
      "name": "python3",
      "display_name": "Python 3"
    }
  },
  "cells": [
    {
      "cell_type": "markdown",
      "metadata": {
        "id": "yvqy0FenhJkb"
      },
      "source": [
        "## **Step 1- Preprocessing**"
      ]
    },
    {
      "cell_type": "markdown",
      "metadata": {
        "id": "weAB2J1fhYbT"
      },
      "source": [
        "Step 1.1- Creating n grams"
      ]
    },
    {
      "cell_type": "markdown",
      "metadata": {
        "id": "Rk-GxrAucMlG"
      },
      "source": [
        "For analysing any sentence single single words as tokens is not enough. So, we need to treat some words together. For doing this we use a concept called- 'n-grams'. Here in our model we are going to use only bigrams. The input in this function much be in form of tokens."
      ]
    },
    {
      "cell_type": "code",
      "metadata": {
        "colab": {
          "base_uri": "https://localhost:8080/"
        },
        "id": "D3rAU7bKcv7V",
        "outputId": "24ed4b75-bc8b-4b2d-f6e9-6245849f5e01"
      },
      "source": [
        "def Create_bigrams(x):\r\n",
        "    n_grams = set(zip(*[x[i:] for i in range(2)]))\r\n",
        "    for n_gram in n_grams:\r\n",
        "        x.append(' '.join(n_gram))\r\n",
        "    return x\r\n",
        "\r\n",
        "Create_bigrams(['This', 'film', 'is', 'terrible'])"
      ],
      "execution_count": 57,
      "outputs": [
        {
          "output_type": "execute_result",
          "data": {
            "text/plain": [
              "['This', 'film', 'is', 'terrible', 'This film', 'is terrible', 'film is']"
            ]
          },
          "metadata": {
            "tags": []
          },
          "execution_count": 57
        }
      ]
    },
    {
      "cell_type": "markdown",
      "metadata": {
        "id": "nHQE36wmhcqY"
      },
      "source": [
        "Step 1.2 - Importing libraries"
      ]
    },
    {
      "cell_type": "code",
      "metadata": {
        "id": "UEtmo4f8c8lT"
      },
      "source": [
        "import torch\r\n",
        "from torchtext import data\r\n",
        "from torchtext import datasets\r\n",
        "import random\r\n",
        "import torch.nn as nn\r\n",
        "import torch.nn.functional as F\r\n",
        "import torch.optim as optim\r\n",
        "import time\r\n",
        "import spacy\r\n",
        "from torchtext import vocab"
      ],
      "execution_count": 58,
      "outputs": []
    },
    {
      "cell_type": "markdown",
      "metadata": {
        "id": "M1wXGfqPejpZ"
      },
      "source": [
        "Step 1.3 - Loading data and do splitting"
      ]
    },
    {
      "cell_type": "code",
      "metadata": {
        "id": "EIYRHpr3dgMd"
      },
      "source": [
        "SEED = 1234\r\n",
        "torch.manual_seed(SEED)\r\n",
        "torch.backends.cudnn.deterministic = True\r\n",
        "TEXT = data.Field(tokenize = 'spacy', \r\n",
        "                  preprocessing = Create_bigrams, \r\n",
        "                  #tokenizer_language='en_core_web_sm',\r\n",
        "                  lower=True)\r\n",
        "LABEL = data.LabelField(dtype = torch.float)"
      ],
      "execution_count": 59,
      "outputs": []
    },
    {
      "cell_type": "code",
      "metadata": {
        "id": "xce0penJewX-"
      },
      "source": [
        "train_data, test_data = datasets.IMDB.splits(TEXT, LABEL)\r\n",
        "train_data, valid_data = train_data.split(random_state = random.seed(SEED))"
      ],
      "execution_count": 60,
      "outputs": []
    },
    {
      "cell_type": "markdown",
      "metadata": {
        "id": "vTvuV-6Yjamb"
      },
      "source": [
        "Step 1.4 - Build the vocab"
      ]
    },
    {
      "cell_type": "code",
      "metadata": {
        "id": "T2Iul1iJfRyR"
      },
      "source": [
        "MAX_VOCAB_SIZE = 25_000\r\n",
        "\r\n",
        "TEXT.build_vocab(train_data, \r\n",
        "                 max_size = MAX_VOCAB_SIZE, \r\n",
        "                 vectors = \"glove.6B.100d\", \r\n",
        "                 unk_init = torch.Tensor.normal_)\r\n",
        "\r\n",
        "LABEL.build_vocab(train_data)"
      ],
      "execution_count": 69,
      "outputs": []
    },
    {
      "cell_type": "markdown",
      "metadata": {
        "id": "Ojnz4GpWjlFR"
      },
      "source": [
        "Step 1.5 - create the number of iterators"
      ]
    },
    {
      "cell_type": "code",
      "metadata": {
        "id": "Dyl_R9jlfb3a"
      },
      "source": [
        "BATCH_SIZE = 64\r\n",
        "\r\n",
        "device = torch.device('cuda' if torch.cuda.is_available() else 'cpu')\r\n",
        "\r\n",
        "train_iterator, valid_iterator, test_iterator = data.BucketIterator.splits(\r\n",
        "    (train_data, valid_data, test_data), \r\n",
        "    batch_size = BATCH_SIZE, \r\n",
        "    device = device)"
      ],
      "execution_count": 70,
      "outputs": []
    },
    {
      "cell_type": "markdown",
      "metadata": {
        "id": "izw3Xzbwf4QX"
      },
      "source": [
        "# **Step 2 - Create model**"
      ]
    },
    {
      "cell_type": "markdown",
      "metadata": {
        "id": "KWQn_7AAsgPe"
      },
      "source": [
        "Step 2.1 - calculating the word embedding "
      ]
    },
    {
      "cell_type": "code",
      "metadata": {
        "id": "Lv01zuilf0UO"
      },
      "source": [
        "class FastText(nn.Module):\r\n",
        "    def __init__(self, vocab_size, embedding_dim, output_dim, pad_idx):\r\n",
        "        super().__init__()\r\n",
        "        self.embedding = nn.Embedding(vocab_size, embedding_dim, padding_idx=pad_idx)\r\n",
        "        self.fc = nn.Linear(embedding_dim, output_dim)\r\n",
        "        \r\n",
        "    def forward(self, text):\r\n",
        "\r\n",
        "        embedded = self.embedding(text)\r\n",
        "        embedded = embedded.permute(1, 0, 2)\r\n",
        "        pooled = F.avg_pool2d(embedded, (embedded.shape[1], 1)).squeeze(1) \r\n",
        "        return self.fc(pooled)"
      ],
      "execution_count": 71,
      "outputs": []
    },
    {
      "cell_type": "code",
      "metadata": {
        "id": "d5BAuI82gA0n"
      },
      "source": [
        "INPUT_DIM = len(TEXT.vocab)\r\n",
        "EMBEDDING_DIM = 100\r\n",
        "OUTPUT_DIM = 1\r\n",
        "PAD_IDX = TEXT.vocab.stoi[TEXT.pad_token]\r\n",
        "\r\n",
        "model = FastText(INPUT_DIM, EMBEDDING_DIM, OUTPUT_DIM, PAD_IDX)"
      ],
      "execution_count": 72,
      "outputs": []
    },
    {
      "cell_type": "markdown",
      "metadata": {
        "id": "uJT-5AK8sNCL"
      },
      "source": [
        "Step 2.2 - Counting Parameters"
      ]
    },
    {
      "cell_type": "code",
      "metadata": {
        "colab": {
          "base_uri": "https://localhost:8080/"
        },
        "id": "kFkTXWk1gFlr",
        "outputId": "4c6fa7b2-8e75-45ec-8176-96fb1f74298c"
      },
      "source": [
        "def count_parameters(model):\r\n",
        "    return sum(p.numel() for p in model.parameters() if p.requires_grad)\r\n",
        "\r\n",
        "print(f'The model has {count_parameters(model):,} trainable parameters')"
      ],
      "execution_count": 73,
      "outputs": [
        {
          "output_type": "stream",
          "text": [
            "The model has 2,500,301 trainable parameters\n"
          ],
          "name": "stdout"
        }
      ]
    },
    {
      "cell_type": "code",
      "metadata": {
        "colab": {
          "base_uri": "https://localhost:8080/"
        },
        "id": "18aLsxyxgGto",
        "outputId": "91016cab-f5a0-408c-af33-1ea7d6ec1401"
      },
      "source": [
        "pretrained_embeddings = TEXT.vocab.vectors\r\n",
        "model.embedding.weight.data.copy_(pretrained_embeddings)"
      ],
      "execution_count": 74,
      "outputs": [
        {
          "output_type": "execute_result",
          "data": {
            "text/plain": [
              "tensor([[-0.0715,  0.9198,  1.4629,  ..., -0.4928, -0.1334,  1.6020],\n",
              "        [-0.3658,  0.4468,  1.6586,  ..., -0.6352, -2.0189, -0.6479],\n",
              "        [-0.0382, -0.2449,  0.7281,  ..., -0.1459,  0.8278,  0.2706],\n",
              "        ...,\n",
              "        [ 1.9672, -0.0860, -0.1657,  ...,  0.1853, -1.3095,  0.1087],\n",
              "        [ 1.7140,  0.7705, -0.9322,  ..., -0.7253,  0.4195,  0.9191],\n",
              "        [-0.2280,  0.0721,  0.6030,  ..., -0.2734, -0.0248,  0.9652]])"
            ]
          },
          "metadata": {
            "tags": []
          },
          "execution_count": 74
        }
      ]
    },
    {
      "cell_type": "code",
      "metadata": {
        "id": "TXxrf5SLgHHL"
      },
      "source": [
        "UNK_IDX = TEXT.vocab.stoi[TEXT.unk_token]\r\n",
        "\r\n",
        "model.embedding.weight.data[UNK_IDX] = torch.zeros(EMBEDDING_DIM)\r\n",
        "model.embedding.weight.data[PAD_IDX] = torch.zeros(EMBEDDING_DIM)"
      ],
      "execution_count": 75,
      "outputs": []
    },
    {
      "cell_type": "markdown",
      "metadata": {
        "id": "P7-sxzE_uimX"
      },
      "source": [
        "# **Step 3 - Train the model**"
      ]
    },
    {
      "cell_type": "markdown",
      "metadata": {
        "id": "-YBr5BRkvEbA"
      },
      "source": [
        "Step 3.1 - Initializing our optimizer"
      ]
    },
    {
      "cell_type": "code",
      "metadata": {
        "id": "C-PRymdKgPL0"
      },
      "source": [
        "optimizer = optim.Adam(model.parameters())"
      ],
      "execution_count": 76,
      "outputs": []
    },
    {
      "cell_type": "markdown",
      "metadata": {
        "id": "neq-CbC8vQQw"
      },
      "source": [
        "Step 3.2 - Defining criteria"
      ]
    },
    {
      "cell_type": "code",
      "metadata": {
        "id": "igKcF9ungPg8"
      },
      "source": [
        "criterion = nn.BCEWithLogitsLoss()\r\n",
        "\r\n",
        "model = model.to(device)\r\n",
        "criterion = criterion.to(device)"
      ],
      "execution_count": 77,
      "outputs": []
    },
    {
      "cell_type": "markdown",
      "metadata": {
        "id": "P0yzL-uovYVh"
      },
      "source": [
        "Step 3.3 - Function for calculating accuracy"
      ]
    },
    {
      "cell_type": "code",
      "metadata": {
        "id": "R715poVKgP3F"
      },
      "source": [
        "def binary_accuracy(preds, y):\r\n",
        "    rounded_preds = torch.round(torch.sigmoid(preds))\r\n",
        "    correct = (rounded_preds == y).float() \r\n",
        "    acc = correct.sum() / len(correct)\r\n",
        "    return acc"
      ],
      "execution_count": 79,
      "outputs": []
    },
    {
      "cell_type": "markdown",
      "metadata": {
        "id": "Sro6T-T-vtYF"
      },
      "source": [
        "Step 3.4 - Model Training"
      ]
    },
    {
      "cell_type": "code",
      "metadata": {
        "id": "fxFeeIs8gXRe"
      },
      "source": [
        "def train(model, iterator, optimizer, criterion):\r\n",
        "    \r\n",
        "    epoch_loss = 0\r\n",
        "    epoch_acc = 0\r\n",
        "    model.train()\r\n",
        "    for batch in iterator:\r\n",
        "        optimizer.zero_grad()\r\n",
        "        predictions = model(batch.text).squeeze(1)\r\n",
        "        loss = criterion(predictions, batch.label)\r\n",
        "        acc = binary_accuracy(predictions, batch.label)\r\n",
        "        loss.backward()\r\n",
        "        optimizer.step()\r\n",
        "        epoch_loss += loss.item()\r\n",
        "        epoch_acc += acc.item()\r\n",
        "        \r\n",
        "    return epoch_loss / len(iterator), epoch_acc / len(iterator)"
      ],
      "execution_count": 80,
      "outputs": []
    },
    {
      "cell_type": "markdown",
      "metadata": {
        "id": "TdOPgzLVwAEf"
      },
      "source": [
        "Step 3.5 - Evaluation function for our model and calculating time.\r\n"
      ]
    },
    {
      "cell_type": "code",
      "metadata": {
        "id": "FkU_G4SKgXky"
      },
      "source": [
        "def evaluate(model, iterator, criterion):\r\n",
        "    \r\n",
        "    epoch_loss = 0\r\n",
        "    epoch_acc = 0\r\n",
        "    model.eval()\r\n",
        "    with torch.no_grad():\r\n",
        "        for batch in iterator:\r\n",
        "            predictions = model(batch.text).squeeze(1)\r\n",
        "            loss = criterion(predictions, batch.label)\r\n",
        "            acc = binary_accuracy(predictions, batch.label)\r\n",
        "            epoch_loss += loss.item()\r\n",
        "            epoch_acc += acc.item()\r\n",
        "    return epoch_loss / len(iterator), epoch_acc / len(iterator)"
      ],
      "execution_count": 85,
      "outputs": []
    },
    {
      "cell_type": "code",
      "metadata": {
        "id": "FW4nRRTYgX50"
      },
      "source": [
        "def epoch_time(start_time, end_time):\r\n",
        "    elapsed_time = end_time - start_time\r\n",
        "    elapsed_mins = int(elapsed_time / 60)\r\n",
        "    elapsed_secs = int(elapsed_time - (elapsed_mins * 60))\r\n",
        "    return elapsed_mins, elapsed_secs"
      ],
      "execution_count": 86,
      "outputs": []
    },
    {
      "cell_type": "markdown",
      "metadata": {
        "id": "Voae8dkHw5YQ"
      },
      "source": [
        "Step 3.6 - Printing epochs details"
      ]
    },
    {
      "cell_type": "code",
      "metadata": {
        "colab": {
          "base_uri": "https://localhost:8080/"
        },
        "id": "XafdTkuDgkwz",
        "outputId": "e6f306ab-1a59-419a-bcb0-4c11d208334a"
      },
      "source": [
        "\r\n",
        "N_EPOCHS = 5\r\n",
        "\r\n",
        "best_valid_loss = float('inf')\r\n",
        "\r\n",
        "for epoch in range(N_EPOCHS):\r\n",
        "\r\n",
        "    start_time = time.time()\r\n",
        "    \r\n",
        "    train_loss, train_acc = train(model, train_iterator, optimizer, criterion)\r\n",
        "    valid_loss, valid_acc = evaluate(model, valid_iterator, criterion)\r\n",
        "    \r\n",
        "    end_time = time.time()\r\n",
        "\r\n",
        "    epoch_mins, epoch_secs = epoch_time(start_time, end_time)\r\n",
        "    \r\n",
        "    if valid_loss < best_valid_loss:\r\n",
        "        best_valid_loss = valid_loss\r\n",
        "        torch.save(model.state_dict(), 'model_weights.h5')\r\n",
        "    \r\n",
        "    print(f'Epoch: {epoch+1:02} | Epoch Time: {epoch_mins}m {epoch_secs}s')\r\n",
        "    print(f'\\tTrain Loss: {train_loss:.3f} | Train Acc: {train_acc*100:.2f}%')\r\n",
        "    print(f'\\t Val. Loss: {valid_loss:.3f} |  Val. Acc: {valid_acc*100:.2f}%')"
      ],
      "execution_count": 87,
      "outputs": [
        {
          "output_type": "stream",
          "text": [
            "Epoch: 01 | Epoch Time: 1m 8s\n",
            "\tTrain Loss: 0.664 | Train Acc: 71.18%\n",
            "\t Val. Loss: 0.536 |  Val. Acc: 75.09%\n",
            "Epoch: 02 | Epoch Time: 1m 8s\n",
            "\tTrain Loss: 0.595 | Train Acc: 78.41%\n",
            "\t Val. Loss: 0.442 |  Val. Acc: 79.70%\n",
            "Epoch: 03 | Epoch Time: 1m 8s\n",
            "\tTrain Loss: 0.516 | Train Acc: 83.40%\n",
            "\t Val. Loss: 0.394 |  Val. Acc: 83.14%\n",
            "Epoch: 04 | Epoch Time: 1m 7s\n",
            "\tTrain Loss: 0.442 | Train Acc: 86.79%\n",
            "\t Val. Loss: 0.378 |  Val. Acc: 85.49%\n",
            "Epoch: 05 | Epoch Time: 1m 8s\n",
            "\tTrain Loss: 0.389 | Train Acc: 88.53%\n",
            "\t Val. Loss: 0.382 |  Val. Acc: 86.63%\n"
          ],
          "name": "stdout"
        }
      ]
    },
    {
      "cell_type": "markdown",
      "metadata": {
        "id": "Siw6YzDgxZ9w"
      },
      "source": [
        "Step 3.7 - Calculating final accuracy after training"
      ]
    },
    {
      "cell_type": "code",
      "metadata": {
        "colab": {
          "base_uri": "https://localhost:8080/"
        },
        "id": "Z6xhKAS9gopv",
        "outputId": "5dc5bf5c-e301-4230-e732-46d933200c0e"
      },
      "source": [
        "model.load_state_dict(torch.load('model_weights.h5'))\r\n",
        "test_loss, test_acc = evaluate(model, test_iterator, criterion)\r\n",
        "print(f'Test Loss: {test_loss:.3f} | Test Acc: {test_acc*100:.2f}%')"
      ],
      "execution_count": 89,
      "outputs": [
        {
          "output_type": "stream",
          "text": [
            "Test Loss: 0.380 | Test Acc: 85.13%\n"
          ],
          "name": "stdout"
        }
      ]
    },
    {
      "cell_type": "markdown",
      "metadata": {
        "id": "Pe8JYJRfxqEw"
      },
      "source": [
        "# **Step 4 - Checking model by providing user input**"
      ]
    },
    {
      "cell_type": "code",
      "metadata": {
        "id": "H18tsAhXgpoq"
      },
      "source": [
        "import spacy\r\n",
        "nlp = spacy.load('en_core_web_sm')\r\n",
        "\r\n",
        "def predict_sentiment(model, sentence):\r\n",
        "    model.eval()\r\n",
        "    tokenized = Create_bigrams([tok.text for tok in nlp.tokenizer(sentence)])\r\n",
        "    indexed = [TEXT.vocab.stoi[t] for t in tokenized]\r\n",
        "    tensor = torch.LongTensor(indexed).to(device)\r\n",
        "    tensor = tensor.unsqueeze(1)\r\n",
        "    prediction = torch.sigmoid(model(tensor))\r\n",
        "    if prediction.item() >= 0.5:\r\n",
        "      return print('positive review')\r\n",
        "    else:\r\n",
        "      return print('negative review')"
      ],
      "execution_count": 97,
      "outputs": []
    },
    {
      "cell_type": "code",
      "metadata": {
        "colab": {
          "base_uri": "https://localhost:8080/"
        },
        "id": "Ze6zjcaqgsNU",
        "outputId": "88e29ea0-f96e-4020-8db0-3332376e73b8"
      },
      "source": [
        "predict_sentiment(model, \"What a lovely piece of shit this was\")"
      ],
      "execution_count": 98,
      "outputs": [
        {
          "output_type": "stream",
          "text": [
            "negative review\n"
          ],
          "name": "stdout"
        }
      ]
    },
    {
      "cell_type": "code",
      "metadata": {
        "colab": {
          "base_uri": "https://localhost:8080/"
        },
        "id": "o_vNxDQfgvfF",
        "outputId": "219d1f50-7711-477e-d793-0d1964bf37fc"
      },
      "source": [
        "predict_sentiment(model, \"What a lovely piece this was\")"
      ],
      "execution_count": 99,
      "outputs": [
        {
          "output_type": "stream",
          "text": [
            "positive review\n"
          ],
          "name": "stdout"
        }
      ]
    },
    {
      "cell_type": "code",
      "metadata": {
        "colab": {
          "base_uri": "https://localhost:8080/"
        },
        "id": "LJa5UmAyymt8",
        "outputId": "b947050a-b642-4055-f884-2bebe2974d0e"
      },
      "source": [
        "predict_sentiment(model, \"very nice\")"
      ],
      "execution_count": 100,
      "outputs": [
        {
          "output_type": "stream",
          "text": [
            "positive review\n"
          ],
          "name": "stdout"
        }
      ]
    },
    {
      "cell_type": "code",
      "metadata": {
        "id": "qSha1QhkzDzl"
      },
      "source": [
        ""
      ],
      "execution_count": null,
      "outputs": []
    }
  ]
}